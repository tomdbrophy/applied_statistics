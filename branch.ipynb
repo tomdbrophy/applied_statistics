{
 "cells": [
  {
   "cell_type": "markdown",
   "metadata": {},
   "source": [
    "This notebook is created to test branching in git. I'm testing branching because I forgot to push my commit earlier today when I created the notebooks and want to avoid causing a conflict from a different PC. Hopefully this doesn't cause more hassle..."
   ]
  },
  {
   "cell_type": "markdown",
   "metadata": {},
   "source": [
    "### Lady tasting tea experiment\n",
    "The task is to firstly calculate the probability of choosing correctly when the lady tasting tea experiment is expanded to 12 cups total (6 milk first).\n",
    "\n",
    "If the original has probability calculated by finding the number of combinations of ways to choose 4 cups from the possible 8, the altered version should be calculated using the same process with 12 and 6.\n"
   ]
  },
  {
   "cell_type": "code",
   "execution_count": 1,
   "metadata": {},
   "outputs": [],
   "source": [
    "import math"
   ]
  },
  {
   "cell_type": "code",
   "execution_count": 4,
   "metadata": {},
   "outputs": [
    {
     "name": "stdout",
     "output_type": "stream",
     "text": [
      "There are 924 combinations.\n"
     ]
    }
   ],
   "source": [
    "total_cups = 12\n",
    "milk_cups = 6\n",
    "\n",
    "cups_combinations = math.comb(total_cups, milk_cups)\n",
    "\n",
    "print(f'There are {cups_combinations} combinations.')"
   ]
  },
  {
   "cell_type": "markdown",
   "metadata": {},
   "source": [
    "The above calculation show that there are 924 possible combinations of 6 cups that can be chosen from the total of 12. This would imply that if the lady (or other participant) is choosing at random they have a 1 in 924 chance of choosing the correct set of cups."
   ]
  },
  {
   "cell_type": "markdown",
   "metadata": {},
   "source": [
    "### Single error allowed\n",
    "\n",
    "If the taster is allowed to make a single error then they are only required to choose 5 correct cups."
   ]
  },
  {
   "cell_type": "code",
   "execution_count": 7,
   "metadata": {},
   "outputs": [
    {
     "data": {
      "text/plain": [
       "792"
      ]
     },
     "execution_count": 7,
     "metadata": {},
     "output_type": "execute_result"
    }
   ],
   "source": [
    "total_cups = 12\n",
    "milk_cups = 5\n",
    "cups_combinations = math.comb(total_cups, milk_cups)\n",
    "cups_combinations"
   ]
  },
  {
   "cell_type": "code",
   "execution_count": null,
   "metadata": {},
   "outputs": [],
   "source": []
  }
 ],
 "metadata": {
  "kernelspec": {
   "display_name": "base",
   "language": "python",
   "name": "python3"
  },
  "language_info": {
   "codemirror_mode": {
    "name": "ipython",
    "version": 3
   },
   "file_extension": ".py",
   "mimetype": "text/x-python",
   "name": "python",
   "nbconvert_exporter": "python",
   "pygments_lexer": "ipython3",
   "version": "3.9.13"
  }
 },
 "nbformat": 4,
 "nbformat_minor": 2
}
