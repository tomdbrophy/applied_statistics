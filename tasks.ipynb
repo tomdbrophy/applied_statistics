{
 "cells": [
  {
   "cell_type": "markdown",
   "metadata": {},
   "source": [
    "# Assessment Tasks for Applied Statistics\n",
    "___"
   ]
  },
  {
   "cell_type": "markdown",
   "metadata": {},
   "source": [
    "## Task 1 - Permutations and Combinations\n",
    "\n",
    "\n",
    "___"
   ]
  },
  {
   "cell_type": "markdown",
   "metadata": {},
   "source": [
    "### Lady tasting tea experiment\n",
    "The task is to firstly calculate the probability of choosing correctly when the lady tasting tea experiment is expanded to 12 cups total (6 milk first).\n",
    "\n",
    "If the original has probability calculated by finding the number of combinations of ways to choose 4 cups from the possible 8, the altered version should be calculated using the same process with 12 and 6.\n"
   ]
  },
  {
   "cell_type": "code",
   "execution_count": null,
   "metadata": {},
   "outputs": [],
   "source": [
    "import math"
   ]
  },
  {
   "cell_type": "code",
   "execution_count": null,
   "metadata": {},
   "outputs": [
    {
     "name": "stdout",
     "output_type": "stream",
     "text": [
      "There are 924 combinations.\n"
     ]
    }
   ],
   "source": [
    "total_cups = 12\n",
    "milk_cups = 6\n",
    "\n",
    "cups_combinations = math.comb(total_cups, milk_cups)\n",
    "\n",
    "print(f'There are {cups_combinations} combinations.')"
   ]
  },
  {
   "cell_type": "markdown",
   "metadata": {},
   "source": [
    "The above calculation show that there are 924 possible combinations of 6 cups that can be chosen from the total of 12. This would imply that if the lady (or other participant) is choosing at random they have a 1 in 924 chance of choosing the correct set of cups."
   ]
  },
  {
   "cell_type": "markdown",
   "metadata": {},
   "source": [
    "### Single error allowed\n",
    "\n",
    "If the taster is allowed to make a single error then they are only required to choose 5 correct cups."
   ]
  },
  {
   "cell_type": "code",
   "execution_count": null,
   "metadata": {},
   "outputs": [
    {
     "data": {
      "text/plain": [
       "792"
      ]
     },
     "metadata": {},
     "output_type": "display_data"
    }
   ],
   "source": [
    "total_cups = 12\n",
    "milk_cups = 5\n",
    "cups_combinations = math.comb(total_cups, milk_cups)\n",
    "cups_combinations"
   ]
  },
  {
   "cell_type": "markdown",
   "metadata": {},
   "source": [
    "## Task 2 - numpy's Normal Distribution\n",
    "\n",
    "___"
   ]
  },
  {
   "cell_type": "markdown",
   "metadata": {},
   "source": [
    "## Task 3 - t-Test Calculation\n",
    "\n",
    "\n",
    "___"
   ]
  },
  {
   "cell_type": "markdown",
   "metadata": {},
   "source": [
    "## Task 4 - ANOVA\n",
    "\n",
    "\n",
    "___"
   ]
  },
  {
   "cell_type": "markdown",
   "metadata": {},
   "source": []
  }
 ],
 "metadata": {
  "language_info": {
   "name": "python"
  }
 },
 "nbformat": 4,
 "nbformat_minor": 2
}
